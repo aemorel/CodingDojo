{
 "cells": [
  {
   "cell_type": "code",
   "execution_count": 1,
   "metadata": {},
   "outputs": [],
   "source": [
    "import requests\n",
    "import pandas as pd\n",
    "import json\n",
    "import utils"
   ]
  },
  {
   "cell_type": "code",
   "execution_count": 2,
   "metadata": {},
   "outputs": [
    {
     "name": "stdout",
     "output_type": "stream",
     "text": [
      "<class 'list'>\n"
     ]
    },
    {
     "data": {
      "text/plain": [
       "{'id': 'bitcoin',\n",
       " 'symbol': 'btc',\n",
       " 'name': 'Bitcoin',\n",
       " 'image': 'https://coin-images.coingecko.com/coins/images/1/large/bitcoin.png?1696501400',\n",
       " 'current_price': 59528,\n",
       " 'market_cap': 1178765207023,\n",
       " 'market_cap_rank': 1,\n",
       " 'fully_diluted_valuation': 1252366170498,\n",
       " 'total_volume': 30126320196,\n",
       " 'high_24h': 61247,\n",
       " 'low_24h': 58935,\n",
       " 'price_change_24h': -1411.4682796917114,\n",
       " 'price_change_percentage_24h': -2.31616,\n",
       " 'market_cap_change_24h': -26146904986.208008,\n",
       " 'market_cap_change_percentage_24h': -2.17003,\n",
       " 'circulating_supply': 19765840.0,\n",
       " 'total_supply': 21000000.0,\n",
       " 'max_supply': 21000000.0,\n",
       " 'ath': 73738,\n",
       " 'ath_change_percentage': -19.12328,\n",
       " 'ath_date': '2024-03-14T07:10:36.635Z',\n",
       " 'atl': 67.81,\n",
       " 'atl_change_percentage': 87848.24297,\n",
       " 'atl_date': '2013-07-06T00:00:00.000Z',\n",
       " 'roi': None,\n",
       " 'last_updated': '2024-10-10T20:37:01.743Z'}"
      ]
     },
     "execution_count": 2,
     "metadata": {},
     "output_type": "execute_result"
    }
   ],
   "source": [
    "# URL de la API pública\n",
    "api_url = \"https://api.coingecko.com/api/v3/coins/markets?vs_currency=usd&ids=bitcoin\"\n",
    "response = requests.get(api_url)\n",
    "print(type(response.json()))\n",
    "response.json()[0]"
   ]
  },
  {
   "cell_type": "code",
   "execution_count": 4,
   "metadata": {},
   "outputs": [],
   "source": [
    "# Función para consumir los datos de la API\n",
    "def fetch_data_from_api(api_url):\n",
    "    response = requests.get(api_url)\n",
    "    \n",
    "    if response.status_code == 200:\n",
    "        json_data = response.json()\n",
    "    else:\n",
    "        raise Exception(f\"Error en la API: {response.status_code}\")\n",
    "    \n",
    "    return json_data"
   ]
  },
  {
   "cell_type": "code",
   "execution_count": 3,
   "metadata": {},
   "outputs": [
    {
     "name": "stdout",
     "output_type": "stream",
     "text": [
      "<class 'list'>\n"
     ]
    },
    {
     "data": {
      "text/plain": [
       "[{'userId': 1,\n",
       "  'id': 1,\n",
       "  'title': 'sunt aut facere repellat provident occaecati excepturi optio reprehenderit',\n",
       "  'body': 'quia et suscipit\\nsuscipit recusandae consequuntur expedita et cum\\nreprehenderit molestiae ut ut quas totam\\nnostrum rerum est autem sunt rem eveniet architecto'},\n",
       " {'userId': 1,\n",
       "  'id': 2,\n",
       "  'title': 'qui est esse',\n",
       "  'body': 'est rerum tempore vitae\\nsequi sint nihil reprehenderit dolor beatae ea dolores neque\\nfugiat blanditiis voluptate porro vel nihil molestiae ut reiciendis\\nqui aperiam non debitis possimus qui neque nisi nulla'},\n",
       " {'userId': 1,\n",
       "  'id': 3,\n",
       "  'title': 'ea molestias quasi exercitationem repellat qui ipsa sit aut',\n",
       "  'body': 'et iusto sed quo iure\\nvoluptatem occaecati omnis eligendi aut ad\\nvoluptatem doloribus vel accusantium quis pariatur\\nmolestiae porro eius odio et labore et velit aut'},\n",
       " {'userId': 1,\n",
       "  'id': 4,\n",
       "  'title': 'eum et est occaecati',\n",
       "  'body': 'ullam et saepe reiciendis voluptatem adipisci\\nsit amet autem assumenda provident rerum culpa\\nquis hic commodi nesciunt rem tenetur doloremque ipsam iure\\nquis sunt voluptatem rerum illo velit'},\n",
       " {'userId': 1,\n",
       "  'id': 5,\n",
       "  'title': 'nesciunt quas odio',\n",
       "  'body': 'repudiandae veniam quaerat sunt sed\\nalias aut fugiat sit autem sed est\\nvoluptatem omnis possimus esse voluptatibus quis\\nest aut tenetur dolor neque'}]"
      ]
     },
     "execution_count": 3,
     "metadata": {},
     "output_type": "execute_result"
    }
   ],
   "source": [
    "api_url = \"https://jsonplaceholder.typicode.com/posts\"\n",
    "# Consumir los datos de la API\n",
    "json_data = utils.fetch_data_from_api(api_url)\n",
    "print(type(json_data)) # json_data\n",
    "json_data[0:5]"
   ]
  },
  {
   "cell_type": "markdown",
   "metadata": {},
   "source": [
    "0. Transformar a dataframe\n",
    "1. Cantidad de filas y columnas\n",
    "2. Canitdad de usuarios distintos\n",
    "3. Cantidad id's por usuario"
   ]
  },
  {
   "cell_type": "code",
   "execution_count": 11,
   "metadata": {},
   "outputs": [
    {
     "name": "stdout",
     "output_type": "stream",
     "text": [
      "<class 'list'>\n",
      "[{'userId': 1, 'id': 1, 'title': 'sunt aut facere repellat provident occaecati excepturi optio reprehenderit', 'body': 'quia et suscipit\\nsuscipit recusandae consequuntur expedita et cum\\nreprehenderit molestiae ut ut quas totam\\nnostrum rerum est autem sunt rem eveniet architecto'}, {'userId': 1, 'id': 2, 'title': 'qui est esse', 'body': 'est rerum tempore vitae\\nsequi sint nihil reprehenderit dolor beatae ea dolores neque\\nfugiat blanditiis voluptate porro vel nihil molestiae ut reiciendis\\nqui aperiam non debitis possimus qui neque nisi nulla'}, {'userId': 1, 'id': 3, 'title': 'ea molestias quasi exercitationem repellat qui ipsa sit aut', 'body': 'et iusto sed quo iure\\nvoluptatem occaecati omnis eligendi aut ad\\nvoluptatem doloribus vel accusantium quis pariatur\\nmolestiae porro eius odio et labore et velit aut'}, {'userId': 1, 'id': 4, 'title': 'eum et est occaecati', 'body': 'ullam et saepe reiciendis voluptatem adipisci\\nsit amet autem assumenda provident rerum culpa\\nquis hic commodi nesciunt rem tenetur doloremque ipsam iure\\nquis sunt voluptatem rerum illo velit'}, {'userId': 1, 'id': 5, 'title': 'nesciunt quas odio', 'body': 'repudiandae veniam quaerat sunt sed\\nalias aut fugiat sit autem sed est\\nvoluptatem omnis possimus esse voluptatibus quis\\nest aut tenetur dolor neque'}]\n",
      "\n",
      "Primeras filas del DataFrame:\n",
      "   userId  id                                              title  \\\n",
      "0       1   1  sunt aut facere repellat provident occaecati e...   \n",
      "1       1   2                                       qui est esse   \n",
      "2       1   3  ea molestias quasi exercitationem repellat qui...   \n",
      "3       1   4                               eum et est occaecati   \n",
      "4       1   5                                 nesciunt quas odio   \n",
      "\n",
      "                                                body  \n",
      "0  quia et suscipit\\nsuscipit recusandae consequu...  \n",
      "1  est rerum tempore vitae\\nsequi sint nihil repr...  \n",
      "2  et iusto sed quo iure\\nvoluptatem occaecati om...  \n",
      "3  ullam et saepe reiciendis voluptatem adipisci\\...  \n",
      "4  repudiandae veniam quaerat sunt sed\\nalias aut...  \n",
      "\n",
      "Cantidad de IDs por usuario:\n",
      "userId\n",
      "1     10\n",
      "2     10\n",
      "3     10\n",
      "4     10\n",
      "5     10\n",
      "6     10\n",
      "7     10\n",
      "8     10\n",
      "9     10\n",
      "10    10\n",
      "Name: id, dtype: int64\n",
      "\n",
      "Cantidad de filas: 100\n",
      "Cantidad de columnas: 4\n",
      "\n",
      "Cantidad de usuarios únicos: 10\n"
     ]
    }
   ],
   "source": [
    "import pandas as pd\n",
    "import requests\n",
    "\n",
    "# Definir la función para consumir datos de la API\n",
    "def fetch_data_from_api(api_url):\n",
    "    try:\n",
    "        response = requests.get(api_url)\n",
    "        response.raise_for_status()  # Lanza una excepción si hay un error en la solicitud\n",
    "        return response.json()\n",
    "    except requests.exceptions.RequestException as e:\n",
    "        print(f\"Error en la solicitud: {e}\")\n",
    "        return None\n",
    "\n",
    "# URL de la API\n",
    "api_url = \"https://jsonplaceholder.typicode.com/posts\"\n",
    "\n",
    "# Consumir los datos de la API\n",
    "json_data = fetch_data_from_api(api_url)\n",
    "\n",
    "# Verificar el tipo de datos y mostrar las primeras 5 entradas\n",
    "print(type(json_data))  # Debería mostrar <class 'list'>\n",
    "print(json_data[0:5])\n",
    "\n",
    "# Convertir los datos JSON a un DataFrame de Pandas\n",
    "df = pd.DataFrame(json_data)\n",
    "\n",
    "# Mostrar las primeras filas del DataFrame\n",
    "print(\"\\nPrimeras filas del DataFrame:\")\n",
    "print(df.head())\n",
    "\n",
    "# Calcular la cantidad de IDs por usuario\n",
    "ids_por_usuario = df.groupby('userId')['id'].count()\n",
    "print(\"\\nCantidad de IDs por usuario:\")\n",
    "print(ids_por_usuario)\n",
    "\n",
    "# Calcular la cantidad de filas y columnas\n",
    "num_filas, num_columnas = df.shape\n",
    "print(f\"\\nCantidad de filas: {num_filas}\")\n",
    "print(f\"Cantidad de columnas: {num_columnas}\")\n",
    "\n",
    "# Calcular la cantidad de usuarios únicos\n",
    "num_usuarios = df['userId'].nunique()\n",
    "print(f\"\\nCantidad de usuarios únicos: {num_usuarios}\")"
   ]
  },
  {
   "cell_type": "code",
   "execution_count": 10,
   "metadata": {},
   "outputs": [
    {
     "name": "stdout",
     "output_type": "stream",
     "text": [
      "\n",
      "========== Vista Preliminar del DataFrame ==========\n",
      "   userId  id                                              title  \\\n",
      "0       1   1  sunt aut facere repellat provident occaecati e...   \n",
      "1       1   2                                       qui est esse   \n",
      "2       1   3  ea molestias quasi exercitationem repellat qui...   \n",
      "3       1   4                               eum et est occaecati   \n",
      "4       1   5                                 nesciunt quas odio   \n",
      "\n",
      "                                                body  \n",
      "0  quia et suscipit\\nsuscipit recusandae consequu...  \n",
      "1  est rerum tempore vitae\\nsequi sint nihil repr...  \n",
      "2  et iusto sed quo iure\\nvoluptatem occaecati om...  \n",
      "3  ullam et saepe reiciendis voluptatem adipisci\\...  \n",
      "4  repudiandae veniam quaerat sunt sed\\nalias aut...   \n",
      "\n",
      "========== Dimensiones del DataFrame ==========\n",
      "Cantidad de filas: 100\n",
      "Cantidad de columnas: 4\n",
      "\n",
      "========== Cantidad de IDs por Usuario ==========\n",
      "userId\n",
      "1     10\n",
      "2     10\n",
      "3     10\n",
      "4     10\n",
      "5     10\n",
      "6     10\n",
      "7     10\n",
      "8     10\n",
      "9     10\n",
      "10    10\n",
      "Name: id, dtype: int64 \n",
      "\n",
      "========== Cantidad de Usuarios Únicos ==========\n",
      "Cantidad de usuarios únicos: 10\n"
     ]
    }
   ],
   "source": [
    "import pandas as pd\n",
    "import requests\n",
    "\n",
    "# Función para consumir datos de la API\n",
    "def fetch_data_from_api(api_url):\n",
    "    try:\n",
    "        response = requests.get(api_url)\n",
    "        response.raise_for_status()\n",
    "        return response.json()\n",
    "    except requests.exceptions.RequestException as e:\n",
    "        print(f\"Error en la solicitud: {e}\")\n",
    "        return None\n",
    "\n",
    "# URL de la API\n",
    "api_url = \"https://jsonplaceholder.typicode.com/posts\"\n",
    "\n",
    "# Consumir los datos de la API\n",
    "json_data = fetch_data_from_api(api_url)\n",
    "\n",
    "# Convertir los datos JSON a un DataFrame de Pandas\n",
    "if json_data:\n",
    "    df = pd.DataFrame(json_data)\n",
    "\n",
    "    # Mostrar vista preliminar del DataFrame\n",
    "    print(\"\\n========== Vista Preliminar del DataFrame ==========\")\n",
    "    print(df.head(), \"\\n\")\n",
    "\n",
    "    # Mostrar dimensiones del DataFrame\n",
    "    print(\"========== Dimensiones del DataFrame ==========\")\n",
    "    print(f\"Cantidad de filas: {df.shape[0]}\")\n",
    "    print(f\"Cantidad de columnas: {df.shape[1]}\\n\")\n",
    "\n",
    "    # Cantidad de IDs por usuario\n",
    "    ids_por_usuario = df.groupby('userId')['id'].count()\n",
    "    print(\"========== Cantidad de IDs por Usuario ==========\")\n",
    "    print(ids_por_usuario, \"\\n\")\n",
    "\n",
    "    # Cantidad de usuarios únicos\n",
    "    num_usuarios = df['userId'].nunique()\n",
    "    print(\"========== Cantidad de Usuarios Únicos ==========\")\n",
    "    print(f\"Cantidad de usuarios únicos: {num_usuarios}\")\n",
    "else:\n",
    "    print(\"No se pudieron obtener datos de la API.\")\n"
   ]
  }
 ],
 "metadata": {
  "kernelspec": {
   "display_name": "Python 3",
   "language": "python",
   "name": "python3"
  },
  "language_info": {
   "codemirror_mode": {
    "name": "ipython",
    "version": 3
   },
   "file_extension": ".py",
   "mimetype": "text/x-python",
   "name": "python",
   "nbconvert_exporter": "python",
   "pygments_lexer": "ipython3",
   "version": "3.12.6"
  }
 },
 "nbformat": 4,
 "nbformat_minor": 2
}
