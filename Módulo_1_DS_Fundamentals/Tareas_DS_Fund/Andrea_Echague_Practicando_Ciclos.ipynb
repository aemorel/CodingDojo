{
 "cells": [
  {
   "cell_type": "markdown",
   "metadata": {},
   "source": [
    "## Practicando con Ciclos"
   ]
  },
  {
   "cell_type": "markdown",
   "metadata": {},
   "source": [
    "### **Ejercicio 1:** Gestión de Inventario\n",
    "\n",
    "1. Crea un diccionario para gestionar el inventario de una tienda. Las claves del diccionario deben ser los nombres de los productos y los valores deben ser la cantidad de cada producto en inventario.\n",
    "\n",
    "2. Usa un bucle for para mostrar todos los productos y sus cantidades.\n",
    "\n",
    "3. Actualiza la cantidad de un producto específico.\n",
    "\n",
    "4. Agrega un nuevo producto al inventario.\n",
    "\n",
    "5. Elimina un producto del inventario.\n"
   ]
  },
  {
   "cell_type": "code",
   "execution_count": 1,
   "metadata": {},
   "outputs": [
    {
     "name": "stdout",
     "output_type": "stream",
     "text": [
      "Inventario actual:\n",
      "leche: 40\n",
      "pan: 35\n",
      "huevos: 60\n",
      "yogurt: 25\n",
      "\n",
      "Inventario actualizado:\n",
      "leche: 40\n",
      "pan: 30\n",
      "huevos: 60\n",
      "queso: 15\n"
     ]
    }
   ],
   "source": [
    "# Creación del diccionario de inventario\n",
    "inventario = {\n",
    "    \"leche\": 40,\n",
    "    \"pan\": 35,\n",
    "    \"huevos\": 60,\n",
    "    \"yogurt\": 25\n",
    "}\n",
    "\n",
    "# Mostrar todos los productos y sus cantidades\n",
    "print(\"Inventario actual:\")\n",
    "for producto, cantidad in inventario.items():\n",
    "    print(f\"{producto}: {cantidad}\")\n",
    "\n",
    "# Actualizar la cantidad de un producto específico\n",
    "inventario[\"pan\"] = 30\n",
    "\n",
    "# Agregar un nuevo producto al inventario\n",
    "inventario[\"queso\"] = 15\n",
    "\n",
    "# Eliminar un producto del inventario\n",
    "del inventario[\"yogurt\"]\n",
    "\n",
    "# Mostrar el inventario actualizado\n",
    "print(\"\\nInventario actualizado:\")\n",
    "for producto, cantidad in inventario.items():\n",
    "    print(f\"{producto}: {cantidad}\")"
   ]
  },
  {
   "cell_type": "markdown",
   "metadata": {},
   "source": [
    "### **Ejercicio 2:** Procesamiento de Datos de Estudiantes\n",
    "\n",
    "1. Crea una lista de tuplas donde cada tupla contenga el nombre de un estudiante y su calificación en un examen.\n",
    "2. Usa un bucle for para mostrar todos los nombres y calificaciones.\n",
    "3. Calcula y muestra la calificación promedio.\n",
    "4. Encuentra y muestra la calificación más alta y la más baja.\n"
   ]
  },
  {
   "cell_type": "code",
   "execution_count": 2,
   "metadata": {},
   "outputs": [
    {
     "name": "stdout",
     "output_type": "stream",
     "text": [
      "Calificaciones de estudiantes:\n",
      "Lucas: 88\n",
      "Valeria: 91\n",
      "Sofía: 85\n",
      "Miguel: 76\n",
      "Clara: 93\n",
      "\n",
      "Calificación promedio: 86.60\n",
      "Calificación más alta: 93\n",
      "Calificación más baja: 76\n"
     ]
    }
   ],
   "source": [
    "# Creación de la lista de tuplas con nombres y calificaciones\n",
    "estudiantes = [(\"Lucas\", 88), (\"Valeria\", 91), (\"Sofía\", 85), (\"Miguel\", 76), (\"Clara\", 93)]\n",
    "\n",
    "# Mostrar todos los nombres y calificaciones\n",
    "print(\"Calificaciones de estudiantes:\")\n",
    "for nombre, calificacion in estudiantes:\n",
    "    print(f\"{nombre}: {calificacion}\")\n",
    "\n",
    "# Calcular la calificación promedio\n",
    "suma_calificaciones = sum(calificacion for nombre, calificacion in estudiantes)\n",
    "promedio = suma_calificaciones / len(estudiantes)\n",
    "print(f\"\\nCalificación promedio: {promedio:.2f}\")\n",
    "\n",
    "# Encontrar la calificación más alta y más baja\n",
    "calificaciones = [calificacion for nombre, calificacion in estudiantes]\n",
    "calificacion_maxima = max(calificaciones)\n",
    "calificacion_minima = min(calificaciones)\n",
    "print(f\"Calificación más alta: {calificacion_maxima}\")\n",
    "print(f\"Calificación más baja: {calificacion_minima}\")"
   ]
  },
  {
   "cell_type": "markdown",
   "metadata": {},
   "source": [
    "### **Ejercicio 3:** Registro de Ventas\n",
    "\n",
    "1. Crea un diccionario donde las claves sean los nombres de los vendedores y los valores sean listas de ventas realizadas por cada vendedor en una semana.\n",
    "2. Usa un bucle for para mostrar el total de ventas de cada vendedor.\n",
    "3. Calcula y muestra el vendedor con el mayor total de ventas."
   ]
  },
  {
   "cell_type": "code",
   "execution_count": 3,
   "metadata": {},
   "outputs": [
    {
     "name": "stdout",
     "output_type": "stream",
     "text": [
      "Total de ventas de cada vendedor:\n",
      "Andrea: 2400\n",
      "Jorge: 1850\n",
      "Laura: 3150\n",
      "Raúl: 3150\n",
      "\n",
      "Vendedor con el mayor total de ventas: Laura con 3150 ventas\n"
     ]
    }
   ],
   "source": [
    "# Creación del diccionario de ventas\n",
    "ventas = {\n",
    "    \"Andrea\": [250, 300, 200, 450, 500, 300, 400],\n",
    "    \"Jorge\": [200, 150, 100, 250, 300, 350, 500],\n",
    "    \"Laura\": [300, 400, 350, 600, 550, 450, 500],\n",
    "    \"Raúl\": [400, 350, 300, 500, 450, 550, 600]\n",
    "}\n",
    "\n",
    "# Mostrar el total de ventas de cada vendedor\n",
    "print(\"Total de ventas de cada vendedor:\")\n",
    "for vendedor, lista_ventas in ventas.items():\n",
    "    total_ventas = sum(lista_ventas)\n",
    "    print(f\"{vendedor}: {total_ventas}\")\n",
    "\n",
    "# Calcular y mostrar el vendedor con el mayor total de ventas\n",
    "ventas_totales = {vendedor: sum(lista_ventas) for vendedor, lista_ventas in ventas.items()}\n",
    "vendedor_maximo = max(ventas_totales, key=ventas_totales.get)\n",
    "print(f\"\\nVendedor con el mayor total de ventas: {vendedor_maximo} con {ventas_totales[vendedor_maximo]} ventas\")"
   ]
  }
 ],
 "metadata": {
  "kernelspec": {
   "display_name": "Python 3",
   "language": "python",
   "name": "python3"
  },
  "language_info": {
   "codemirror_mode": {
    "name": "ipython",
    "version": 3
   },
   "file_extension": ".py",
   "mimetype": "text/x-python",
   "name": "python",
   "nbconvert_exporter": "python",
   "pygments_lexer": "ipython3",
   "version": "3.12.6"
  }
 },
 "nbformat": 4,
 "nbformat_minor": 2
}
