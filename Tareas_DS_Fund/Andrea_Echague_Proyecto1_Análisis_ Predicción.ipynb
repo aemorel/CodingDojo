{
 "cells": [
  {
   "cell_type": "markdown",
   "metadata": {},
   "source": [
    "## Análisis y Predicción de Ventas en una Tienda de Retail (Core)\n",
    "\n",
    "### Introducción al Proyecto\n",
    "\n",
    "En este proyecto de curso, desarrollaremos un análisis integral de un conjunto de datos de ventas de una tienda de retail. El objetivo es que los estudiantes apliquen lo aprendido en las diferentes secciones del curso, desde la manipulación básica de datos con NumPy, pasando por el análisis y visualización de datos con Pandas, hasta el uso de técnicas de machine learning para realizar predicciones. Este proyecto será una excelente adición al portafolio de los estudiantes y les permitirá demostrar su competencia en varias áreas clave de la ciencia de datos.\n",
    "\n",
    "### Dataset\n",
    "\n",
    "Para este proyecto, utilizaremos un dataset reciente de Kaggle titulado «Retail Sales Dataset» (2023-2024). Este dataset contiene información detallada sobre las ventas diarias de diferentes productos en varias tiendas. Puedes descargar el dataset desde Kaggle.\n",
    "\n",
    "### **Parte 1:** Análisis Básico con NumPy\n",
    "\n",
    "En esta primera parte del proyecto, los estudiantes realizarán un análisis preliminar del dataset utilizando NumPy. El objetivo es familiarizarse con los datos y realizar operaciones básicas de manipulación y análisis.\n",
    "Instrucciones:\n",
    "\n",
    "1. **Configuración Inicial del Proyecto:**\n",
    "- Crea un repositorio en GitHub para tu proyecto.\n",
    "- Configura dos ramas en tu repositorio: main y development.\n",
    "- Agrega un archivo README.md con una descripción del proyecto, instrucciones de instalación y uso.\n",
    "2. **Carga y Preprocesamiento de Datos:**\n",
    "- Carga los datos del archivo CSV utilizando NumPy.\n",
    "- Realiza un preprocesamiento básico para asegurarte de que los datos estén limpios y listos para su análisis\n",
    "3. **Exploración de Datos:**\n",
    "- Calcula el total de ventas por producto y por tienda.\n",
    "- Calcula el promedio de ventas diarias por producto y por tienda.\n",
    "- Identifica los productos y tiendas con mayores y menores ventas.\n",
    "4. **Manipulación de Datos:**\n",
    "- Filtra los datos para mostrar solo las ventas de un producto específico.\n",
    "- Filtra los datos para mostrar solo las ventas de una tienda específica.\n",
    "- Realiza operaciones de suma, resta, multiplicación y división en los datos para obtener estadísticas adicionales."
   ]
  }
 ],
 "metadata": {
  "kernelspec": {
   "display_name": "Python 3",
   "language": "python",
   "name": "python3"
  },
  "language_info": {
   "codemirror_mode": {
    "name": "ipython",
    "version": 3
   },
   "file_extension": ".py",
   "mimetype": "text/x-python",
   "name": "python",
   "nbconvert_exporter": "python",
   "pygments_lexer": "ipython3",
   "version": "3.12.6"
  }
 },
 "nbformat": 4,
 "nbformat_minor": 2
}
