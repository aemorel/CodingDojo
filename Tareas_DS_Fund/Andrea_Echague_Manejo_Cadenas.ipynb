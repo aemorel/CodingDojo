{
 "cells": [
  {
   "cell_type": "markdown",
   "metadata": {},
   "source": [
    "\n",
    "## Manejo de cadenas\n",
    "\n",
    "### **Ejercicio 1:** Saludo Personalizado\n",
    "\n",
    "Crea un programa que pida al usuario su nombre y edad, y luego imprima un saludo personalizado.\n",
    "\n",
    "Usa input para capturar el nombre y la edad.\n",
    "\n",
    "Usa print para mostrar el saludo."
   ]
  },
  {
   "cell_type": "code",
   "execution_count": 1,
   "metadata": {},
   "outputs": [
    {
     "name": "stdout",
     "output_type": "stream",
     "text": [
      "Hola Andrea, tienes 29 años.\n"
     ]
    }
   ],
   "source": [
    "# Ejercicio 1: Saludo Personalizado\n",
    "\n",
    "# Pide al usuario su nombre y edad\n",
    "nombre = input(\"Ingrese su nombre: \")\n",
    "edad = input(\"Ingrese su edad: \")\n",
    "\n",
    "# Imprime el saludo personalizado\n",
    "print(f\"Hola {nombre}, tienes {edad} años.\")"
   ]
  },
  {
   "cell_type": "markdown",
   "metadata": {},
   "source": [
    "### **Ejercicio 2:** Manipulación de Cadenas\n",
    "\n",
    "Crea una cadena con tu nombre completo.\n",
    "\n",
    "Usa los métodos de cadenas para:\n",
    "\n",
    "- Convertir el nombre a mayúsculas y minúsculas.\n",
    "\n",
    "- Contar el número de letras en tu nombre.\n",
    "\n",
    "- Reemplazar tu primer nombre por otro nombre."
   ]
  },
  {
   "cell_type": "code",
   "execution_count": 3,
   "metadata": {},
   "outputs": [
    {
     "name": "stdout",
     "output_type": "stream",
     "text": [
      "Nombre en mayúsculas: ANDREA ECHAGUE\n",
      "Nombre en minúsculas: andrea echague\n",
      "Número de letras: 13\n",
      "Nombre reemplazado: Andrea Echague\n"
     ]
    }
   ],
   "source": [
    "# Ejercicio 2: Manipulación de Cadenas\n",
    "\n",
    "# Define una cadena con tu nombre completo\n",
    "nombre_completo = \"Andrea Echague\"\n",
    "\n",
    "# Convierte el nombre a mayúsculas y minúsculas\n",
    "nombre_mayusculas = nombre_completo.upper()\n",
    "nombre_minusculas = nombre_completo.lower()\n",
    "\n",
    "# Cuenta el número de letras en el nombre (excluyendo espacios)\n",
    "num_letras = len(nombre_completo.replace(\" \", \"\"))\n",
    "\n",
    "# Reemplaza el primer nombre por otro\n",
    "nombre_reemplazado = nombre_completo.replace(\"Juan\", \"Carlos\")\n",
    "\n",
    "# Muestra los resultados\n",
    "print(f\"Nombre en mayúsculas: {nombre_mayusculas}\")\n",
    "print(f\"Nombre en minúsculas: {nombre_minusculas}\")\n",
    "print(f\"Número de letras: {num_letras}\")\n",
    "print(f\"Nombre reemplazado: {nombre_reemplazado}\")"
   ]
  },
  {
   "cell_type": "markdown",
   "metadata": {},
   "source": [
    "### **Ejercicio 3:** Lista de Nombres\n",
    "\n",
    "Pide al usuario que ingrese una lista de nombres separados por comas.\n",
    "\n",
    "Usa split para convertir esta cadena en una lista de nombres.\n",
    "\n",
    "Imprime cada nombre en una línea separada."
   ]
  },
  {
   "cell_type": "code",
   "execution_count": 4,
   "metadata": {},
   "outputs": [
    {
     "name": "stdout",
     "output_type": "stream",
     "text": [
      "Lista de nombres:\n",
      "Diego\n",
      "Ricardo\n",
      "Andrea\n",
      "Monserrat\n"
     ]
    }
   ],
   "source": [
    "# Ejercicio 3: Lista de Nombres\n",
    "\n",
    "# Pide al usuario que ingrese una lista de nombres separados por comas\n",
    "nombres = input(\"Ingrese una lista de nombres separados por comas: \")\n",
    "\n",
    "# Convierte la cadena en una lista de nombres usando split\n",
    "lista_nombres = nombres.split(\",\")\n",
    "\n",
    "# Imprime cada nombre en una línea separada\n",
    "print(\"Lista de nombres:\")\n",
    "for nombre in lista_nombres:\n",
    "    print(nombre.strip())  # Usa strip para eliminar espacios en los extremos"
   ]
  }
 ],
 "metadata": {
  "kernelspec": {
   "display_name": "Python 3",
   "language": "python",
   "name": "python3"
  },
  "language_info": {
   "codemirror_mode": {
    "name": "ipython",
    "version": 3
   },
   "file_extension": ".py",
   "mimetype": "text/x-python",
   "name": "python",
   "nbconvert_exporter": "python",
   "pygments_lexer": "ipython3",
   "version": "3.12.6"
  }
 },
 "nbformat": 4,
 "nbformat_minor": 2
}
